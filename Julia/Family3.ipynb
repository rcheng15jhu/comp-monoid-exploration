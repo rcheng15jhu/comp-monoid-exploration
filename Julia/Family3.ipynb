{
 "cells": [
  {
   "cell_type": "code",
   "execution_count": 8,
   "id": "71682ff2-dbc7-4641-a8e4-93162e9d27c3",
   "metadata": {},
   "outputs": [],
   "source": [
    "# firsttime = true\n",
    "\n",
    "if !(@isdefined firsttime) || firsttime == true\n",
    "    include(\"HMAlg.jl\")\n",
    "    firsttime = false\n",
    "end\n",
    "# using Main.HMAlg\n",
    "using .HMAlg"
   ]
  },
  {
   "cell_type": "code",
   "execution_count": null,
   "id": "4c39e056-749c-4a7c-a4b2-8b9f08c08443",
   "metadata": {},
   "outputs": [],
   "source": []
  }
 ],
 "metadata": {
  "kernelspec": {
   "display_name": "Julia 1.7.1",
   "language": "julia",
   "name": "julia-1.7"
  },
  "language_info": {
   "file_extension": ".jl",
   "mimetype": "application/julia",
   "name": "julia",
   "version": "1.7.1"
  }
 },
 "nbformat": 4,
 "nbformat_minor": 5
}
