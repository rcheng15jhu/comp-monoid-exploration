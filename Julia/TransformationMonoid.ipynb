{
 "cells": [
  {
   "cell_type": "code",
   "execution_count": 3,
   "id": "5138b55f-f1ec-4616-a0a9-ab931e4bed17",
   "metadata": {},
   "outputs": [
    {
     "data": {
      "text/plain": [
       "printHM (generic function with 5 methods)"
      ]
     },
     "execution_count": 3,
     "metadata": {},
     "output_type": "execute_result"
    }
   ],
   "source": [
    "using Symbolics\n",
    "\n",
    "function HM(sz::Int...; symbol::Symbol)\n",
    "    (@variables $symbol[map(x -> 1:x, sz)...])[1]\n",
    "end\n",
    "\n",
    "function HM(sz::AbstractRange{Int}...; symbol::Symbol)\n",
    "    (@variables $symbol[sz...])[1]\n",
    "end\n",
    "\n",
    "eltypes(::Type{Symbolics.Arr{T,D}}) where {T,D} = (T, D)\n",
    "eltypes(x::Symbolics.Arr) = eltypes(typeof(x))\n",
    "\n",
    "Base.similar(A::AbstractArray, T::Type, dims::Tuple{AbstractRange{I}, Vararg{AbstractRange{I}}}) where {I<:Int} = similar(A, T, tuple(map(x -> length(x), dims)...))\n",
    "    \n",
    "Base.similar(f::Union{Function,DataType}, dims::Tuple{AbstractRange{I}, Vararg{AbstractRange{I}}}) where {I<:Int} = similar(f, tuple(map(x -> length(x), dims)...))\n",
    "\n",
    "function printHM(Hx::Symbolics.Arr{T,2}) where {T}\n",
    "    println(\"2 method called! \", Hx)\n",
    "    if any(firstindex.([Hx],[1:2...]') .!= 1)\n",
    "        r,c = length.(axes(Hx))\n",
    "        [Hx[i+r*j] for i in 1:r, j in 0:(c-1)]\n",
    "    else\n",
    "        [x for x in Hx]\n",
    "    end\n",
    "end\n",
    "\n",
    "function printHM(Hx::Symbolics.Arr{T,D}, dim1=0, dim2=1, dpths=nothing) where {T,D}\n",
    "    println(\"general method called! \", Hx)\n",
    "    if any(firstindex.([Hx],[1:D...]') .!= 1)\n",
    "        [Hx[i] for i in CartesianIndex(repeat([1],D)...):CartesianIndex(length.(axes(Hx))...)]\n",
    "    else\n",
    "        [x for x in Hx]\n",
    "    end\n",
    "end"
   ]
  },
  {
   "cell_type": "code",
   "execution_count": 4,
   "id": "f83df39c-8cbd-4e94-af13-0cc0817769bb",
   "metadata": {},
   "outputs": [
    {
     "name": "stdout",
     "output_type": "stream",
     "text": [
      "2 method called! a[1:3,1:3]\n"
     ]
    },
    {
     "data": {
      "text/latex": [
       "\\begin{equation}\n",
       "\\left[\n",
       "\\begin{array}{ccc}\n",
       "a{{_1}}ˏ{_1} & a{{_1}}ˏ{_2} & a{{_1}}ˏ{_3} \\\\\n",
       "a{{_2}}ˏ{_1} & a{{_2}}ˏ{_2} & a{{_2}}ˏ{_3} \\\\\n",
       "a{{_3}}ˏ{_1} & a{{_3}}ˏ{_2} & a{{_3}}ˏ{_3} \\\\\n",
       "\\end{array}\n",
       "\\right]\n",
       "\\end{equation}\n"
      ],
      "text/plain": [
       "3×3 Matrix{Num}:\n",
       " a[1, 1]  a[1, 2]  a[1, 3]\n",
       " a[2, 1]  a[2, 2]  a[2, 3]\n",
       " a[3, 1]  a[3, 2]  a[3, 3]"
      ]
     },
     "execution_count": 4,
     "metadata": {},
     "output_type": "execute_result"
    }
   ],
   "source": [
    "sz = 3; A = HM(sz, sz, symbol=:a)\n",
    "# A |> printHM\n",
    "printHM(A)"
   ]
  },
  {
   "cell_type": "code",
   "execution_count": null,
   "id": "edfeac55-3cbb-4c0a-8b9d-17a5fc8529c6",
   "metadata": {},
   "outputs": [],
   "source": []
  }
 ],
 "metadata": {
  "kernelspec": {
   "display_name": "Julia 1.7.1",
   "language": "julia",
   "name": "julia-1.7"
  },
  "language_info": {
   "file_extension": ".jl",
   "mimetype": "application/julia",
   "name": "julia",
   "version": "1.7.1"
  }
 },
 "nbformat": 4,
 "nbformat_minor": 5
}
