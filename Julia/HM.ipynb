{
 "cells": [
  {
   "cell_type": "code",
   "execution_count": 2,
   "id": "2d3b2e12-ae97-43cf-9bdf-b16ba45feba7",
   "metadata": {},
   "outputs": [],
   "source": [
    "using Symbolics, TermInterface"
   ]
  },
  {
   "cell_type": "code",
   "execution_count": 3,
   "id": "ffbfd274-2a0c-408a-a924-f3d4acd07bef",
   "metadata": {},
   "outputs": [
    {
     "data": {
      "text/plain": [
       "3×3 Matrix{Int64}:\n",
       " 1  2  3\n",
       " 4  5  6\n",
       " 7  8  9"
      ]
     },
     "execution_count": 3,
     "metadata": {},
     "output_type": "execute_result"
    }
   ],
   "source": [
    "X = [1 2 3; 4 5 6; 7 8 9]"
   ]
  },
  {
   "cell_type": "code",
   "execution_count": 4,
   "id": "3fcc49ce-cd8c-40f3-bd88-9cd806c7a058",
   "metadata": {},
   "outputs": [
    {
     "data": {
      "text/plain": [
       "5"
      ]
     },
     "execution_count": 4,
     "metadata": {},
     "output_type": "execute_result"
    }
   ],
   "source": [
    "X[2,2]"
   ]
  },
  {
   "cell_type": "code",
   "execution_count": 5,
   "id": "308a417b-9384-46ad-ac98-17fe0ed41461",
   "metadata": {},
   "outputs": [
    {
     "data": {
      "text/plain": [
       "2×3 Matrix{Int64}:\n",
       " 1  2  3\n",
       " 4  5  6"
      ]
     },
     "execution_count": 5,
     "metadata": {},
     "output_type": "execute_result"
    }
   ],
   "source": [
    "X[1:2,1:3]"
   ]
  },
  {
   "cell_type": "code",
   "execution_count": 6,
   "id": "d8205964-8fca-4eee-8a28-fd3d694b2f4b",
   "metadata": {},
   "outputs": [
    {
     "data": {
      "text/plain": [
       "3×2 Matrix{Int64}:\n",
       " 2  3\n",
       " 5  6\n",
       " 8  9"
      ]
     },
     "execution_count": 6,
     "metadata": {},
     "output_type": "execute_result"
    }
   ],
   "source": [
    "X[map(x -> x:3, [1, 2])...]"
   ]
  },
  {
   "cell_type": "code",
   "execution_count": 7,
   "id": "725b9867-9197-481f-8bf2-aac08b4cf7ef",
   "metadata": {},
   "outputs": [
    {
     "data": {
      "text/plain": [
       "2×3 Matrix{Int64}:\n",
       " 4  5  6\n",
       " 7  8  9"
      ]
     },
     "execution_count": 7,
     "metadata": {},
     "output_type": "execute_result"
    }
   ],
   "source": [
    "X[(x:3 for x in [2, 1])...]"
   ]
  },
  {
   "cell_type": "markdown",
   "id": "02b462ef-1003-4dde-9bcc-b56ea8e51f91",
   "metadata": {},
   "source": [
    "`@edit @variables`"
   ]
  },
  {
   "cell_type": "code",
   "execution_count": 8,
   "id": "adf72aac-760c-49ab-8794-ffa6416acf3c",
   "metadata": {},
   "outputs": [
    {
     "data": {
      "text/plain": [
       "HM (generic function with 2 methods)"
      ]
     },
     "execution_count": 8,
     "metadata": {},
     "output_type": "execute_result"
    }
   ],
   "source": [
    "function HM(sz::Int...; symbol::Symbol)\n",
    "    (@variables $symbol[map(x -> 1:x, sz)...])[1]\n",
    "end\n",
    "\n",
    "function HM(sz::AbstractRange{Int}...; symbol::Symbol)\n",
    "    (@variables $symbol[sz...])[1]\n",
    "end"
   ]
  },
  {
   "cell_type": "code",
   "execution_count": 9,
   "id": "d0bb8cf1-6d44-4712-8bdf-a1f063872657",
   "metadata": {},
   "outputs": [
    {
     "data": {
      "text/latex": [
       "\\begin{equation}\n",
       "a\n",
       "\\end{equation}\n"
      ],
      "text/plain": [
       "a[1:2,1:3]"
      ]
     },
     "execution_count": 9,
     "metadata": {},
     "output_type": "execute_result"
    }
   ],
   "source": [
    "A = HM(2, 3, symbol=:a)"
   ]
  },
  {
   "cell_type": "code",
   "execution_count": 10,
   "id": "7228b292-f82e-4e1d-b7bc-2d5adb7a58c4",
   "metadata": {},
   "outputs": [
    {
     "data": {
      "text/latex": [
       "\\begin{equation}\n",
       "a{{_1}}ˏ{_2} a{{_2}}ˏ{_1}\n",
       "\\end{equation}\n"
      ],
      "text/plain": [
       "a[1, 2]*a[2, 1]"
      ]
     },
     "execution_count": 10,
     "metadata": {},
     "output_type": "execute_result"
    }
   ],
   "source": [
    "A[1,2]*A[2,1]"
   ]
  },
  {
   "cell_type": "code",
   "execution_count": 11,
   "id": "b8c97653-04fe-4286-ab71-3c179a1d5c12",
   "metadata": {},
   "outputs": [
    {
     "data": {
      "text/plain": [
       "Symbolics.Arr{Num, 2}"
      ]
     },
     "execution_count": 11,
     "metadata": {},
     "output_type": "execute_result"
    }
   ],
   "source": [
    "typeof(A)"
   ]
  },
  {
   "cell_type": "code",
   "execution_count": 12,
   "id": "3b18fb4e-a61b-4853-9919-cffcb109544d",
   "metadata": {},
   "outputs": [
    {
     "data": {
      "text/plain": [
       "(Num, 2)"
      ]
     },
     "execution_count": 12,
     "metadata": {},
     "output_type": "execute_result"
    }
   ],
   "source": [
    "eltypes(::Type{Symbolics.Arr{T,D}}) where {T,D} = (T, D)\n",
    "eltypes(x::Symbolics.Arr) = eltypes(typeof(x))\n",
    "eltypes(A)"
   ]
  },
  {
   "cell_type": "code",
   "execution_count": 13,
   "id": "758c92fe-f79c-4aa8-a5e6-836ea74720be",
   "metadata": {},
   "outputs": [
    {
     "data": {
      "text/plain": [
       ":a"
      ]
     },
     "execution_count": 13,
     "metadata": {},
     "output_type": "execute_result"
    }
   ],
   "source": [
    "A |> Symbolics.unwrap |> nameof"
   ]
  },
  {
   "cell_type": "code",
   "execution_count": 14,
   "id": "b5dc33c0-6c32-4b30-b99c-39e6f9dfcec0",
   "metadata": {},
   "outputs": [
    {
     "data": {
      "text/plain": [
       "Base.ImmutableDict{DataType, Any} with 2 entries:\n",
       "  VariableSource => (:variables, :a)\n",
       "  ArrayShapeCtx  => (1:2, 1:3)"
      ]
     },
     "execution_count": 14,
     "metadata": {},
     "output_type": "execute_result"
    }
   ],
   "source": [
    "A |> Symbolics.unwrap |> TermInterface.metadata"
   ]
  },
  {
   "cell_type": "code",
   "execution_count": 15,
   "id": "662f790d-f2d8-4bba-97cb-efa10e0497d6",
   "metadata": {},
   "outputs": [
    {
     "data": {
      "text/plain": [
       "(1:2, 1:3)"
      ]
     },
     "execution_count": 15,
     "metadata": {},
     "output_type": "execute_result"
    }
   ],
   "source": [
    "axesofA = axes(A)"
   ]
  },
  {
   "cell_type": "code",
   "execution_count": 16,
   "id": "54d91ac4-dcd7-4072-9e31-ff6c70b836e8",
   "metadata": {},
   "outputs": [
    {
     "data": {
      "text/latex": [
       "\\begin{equation}\n",
       "bb\n",
       "\\end{equation}\n"
      ],
      "text/plain": [
       "bb[2:3,0:2:4,1:4]"
      ]
     },
     "execution_count": 16,
     "metadata": {},
     "output_type": "execute_result"
    }
   ],
   "source": [
    "B = HM(2:3, 0:2:4, 1:4, symbol=:bb)"
   ]
  },
  {
   "cell_type": "code",
   "execution_count": 17,
   "id": "b21414ff-f690-4fea-9682-3b0382ab64fc",
   "metadata": {},
   "outputs": [
    {
     "data": {
      "text/latex": [
       "\\begin{equation}\n",
       "bb{{_2}}ˏ{{_0}}ˏ{_1} bb{{_3}}ˏ{{_4}}ˏ{_2}\n",
       "\\end{equation}\n"
      ],
      "text/plain": [
       "bb[2, 0, 1]*bb[3, 4, 2]"
      ]
     },
     "execution_count": 17,
     "metadata": {},
     "output_type": "execute_result"
    }
   ],
   "source": [
    "B[1,1,1]*B[2,3,2]"
   ]
  },
  {
   "cell_type": "code",
   "execution_count": 18,
   "id": "873cf98b-da12-41bf-8afe-172334dc0db9",
   "metadata": {},
   "outputs": [
    {
     "data": {
      "text/plain": [
       "(Symbolics.Arr{Num, 3}, (Num, 3))"
      ]
     },
     "execution_count": 18,
     "metadata": {},
     "output_type": "execute_result"
    }
   ],
   "source": [
    "typeof(B), eltypes(B)"
   ]
  },
  {
   "cell_type": "code",
   "execution_count": 19,
   "id": "17685275-f272-43b1-a6ae-c617ff58bdfc",
   "metadata": {},
   "outputs": [
    {
     "data": {
      "text/plain": [
       "3×2 Matrix{Any}:\n",
       " 2:3    2\n",
       " 0:2:4  3\n",
       " 1:4    4"
      ]
     },
     "execution_count": 19,
     "metadata": {},
     "output_type": "execute_result"
    }
   ],
   "source": [
    "axes(B) .|> [(x->x) length]"
   ]
  },
  {
   "cell_type": "code",
   "execution_count": 20,
   "id": "48b3578c-8c97-4aa8-badd-898d4b479a01",
   "metadata": {
    "tags": []
   },
   "outputs": [
    {
     "data": {
      "text/plain": [
       "2×3 Matrix{Int64}:\n",
       " 2  0  1\n",
       " 3  4  4"
      ]
     },
     "execution_count": 20,
     "metadata": {},
     "output_type": "execute_result"
    }
   ],
   "source": [
    "[firstindex.([B],[1 2 3]) ; lastindex.([B],[1 2 3])]"
   ]
  },
  {
   "cell_type": "code",
   "execution_count": 21,
   "id": "c8fb1968-79d3-499c-bd9e-0e98b44ebb3f",
   "metadata": {},
   "outputs": [
    {
     "data": {
      "text/plain": [
       "3×2 adjoint(::Matrix{Int64}) with eltype Int64:\n",
       " 2  3\n",
       " 0  4\n",
       " 1  4"
      ]
     },
     "execution_count": 21,
     "metadata": {},
     "output_type": "execute_result"
    }
   ],
   "source": [
    "# permutedims(ans, (2,1))\n",
    "ans'"
   ]
  },
  {
   "cell_type": "code",
   "execution_count": 36,
   "id": "a7ec5bd5-9cf7-4320-938c-9884aa7455bc",
   "metadata": {},
   "outputs": [
    {
     "data": {
      "text/plain": [
       "printHM (generic function with 5 methods)"
      ]
     },
     "execution_count": 36,
     "metadata": {},
     "output_type": "execute_result"
    }
   ],
   "source": [
    "Base.similar(A::AbstractArray, T::Type, dims::Tuple{AbstractRange{I}, Vararg{AbstractRange{I}}}) where {I<:Int} = similar(A, T, tuple(map(x -> length(x), dims)...))\n",
    "    \n",
    "Base.similar(f::Union{Function,DataType}, dims::Tuple{AbstractRange{I}, Vararg{AbstractRange{I}}}) where {I<:Int} = similar(f, tuple(map(x -> length(x), dims)...))\n",
    "\n",
    "function printHM(Hx::Symbolics.Arr{T,2}) where {T}\n",
    "    println(\"2 method called! \", Hx)\n",
    "    if any(firstindex.([Hx],[1:2...]') .!= 1)\n",
    "        r,c = length.(axes(Hx))\n",
    "        [Hx[i+r*j] for i in 1:r, j in 0:(c-1)]\n",
    "    else\n",
    "        [x for x in Hx]\n",
    "    end\n",
    "end\n",
    "\n",
    "function printHM(Hx::Symbolics.Arr{T,D}, dim1=0, dim2=1, dpths=nothing) where {T,D}\n",
    "    println(\"general method called! \", Hx)\n",
    "    if any(firstindex.([Hx],[1:D...]') .!= 1)\n",
    "        [Hx[i] for i in CartesianIndex(repeat([1],D)...):CartesianIndex(length.(axes(Hx))...)]\n",
    "    else\n",
    "        [x for x in Hx]\n",
    "    end\n",
    "end\n",
    "\n",
    "\n",
    "#     try\n",
    "#         [x for x in Hx]\n",
    "#     catch e\n",
    "#         if isa(e, BoundsError)\n",
    "#             println(\"Implementation to follow soon\")\n",
    "#             [0]\n",
    "#         else\n",
    "#             throw(e)\n",
    "#         end\n",
    "#     end"
   ]
  },
  {
   "cell_type": "code",
   "execution_count": 23,
   "id": "5e6f9c2f-2961-4ee3-b665-382f3760bcac",
   "metadata": {},
   "outputs": [
    {
     "name": "stdout",
     "output_type": "stream",
     "text": [
      "2 method called! a[1:2,1:3]\n"
     ]
    },
    {
     "data": {
      "text/latex": [
       "\\begin{equation}\n",
       "\\left[\n",
       "\\begin{array}{ccc}\n",
       "a{{_1}}ˏ{_1} & a{{_1}}ˏ{_2} & a{{_1}}ˏ{_3} \\\\\n",
       "a{{_2}}ˏ{_1} & a{{_2}}ˏ{_2} & a{{_2}}ˏ{_3} \\\\\n",
       "\\end{array}\n",
       "\\right]\n",
       "\\end{equation}\n"
      ],
      "text/plain": [
       "2×3 Matrix{Num}:\n",
       " a[1, 1]  a[1, 2]  a[1, 3]\n",
       " a[2, 1]  a[2, 2]  a[2, 3]"
      ]
     },
     "execution_count": 23,
     "metadata": {},
     "output_type": "execute_result"
    }
   ],
   "source": [
    "printHM(A)"
   ]
  },
  {
   "cell_type": "code",
   "execution_count": 24,
   "id": "d1526bc1-2328-462d-bb7f-0e580778ec68",
   "metadata": {
    "tags": []
   },
   "outputs": [
    {
     "name": "stdout",
     "output_type": "stream",
     "text": [
      "general method called! bb[2:3,0:2:4,1:4]\n"
     ]
    },
    {
     "data": {
      "text/plain": [
       "2×3×4 Array{Num, 3}:\n",
       "[:, :, 1] =\n",
       " bb[2, 0, 1]  bb[2, 2, 1]  bb[2, 4, 1]\n",
       " bb[3, 0, 1]  bb[3, 2, 1]  bb[3, 4, 1]\n",
       "\n",
       "[:, :, 2] =\n",
       " bb[2, 0, 2]  bb[2, 2, 2]  bb[2, 4, 2]\n",
       " bb[3, 0, 2]  bb[3, 2, 2]  bb[3, 4, 2]\n",
       "\n",
       "[:, :, 3] =\n",
       " bb[2, 0, 3]  bb[2, 2, 3]  bb[2, 4, 3]\n",
       " bb[3, 0, 3]  bb[3, 2, 3]  bb[3, 4, 3]\n",
       "\n",
       "[:, :, 4] =\n",
       " bb[2, 0, 4]  bb[2, 2, 4]  bb[2, 4, 4]\n",
       " bb[3, 0, 4]  bb[3, 2, 4]  bb[3, 4, 4]"
      ]
     },
     "execution_count": 24,
     "metadata": {},
     "output_type": "execute_result"
    }
   ],
   "source": [
    "printHM(B)"
   ]
  },
  {
   "cell_type": "code",
   "execution_count": 25,
   "id": "b9309f8d-f249-4575-b17b-3f2d2f3db3d1",
   "metadata": {},
   "outputs": [
    {
     "data": {
      "text/latex": [
       "\\begin{equation}\n",
       "c\n",
       "\\end{equation}\n"
      ],
      "text/plain": [
       "c[1:3,1:2,1:4]"
      ]
     },
     "execution_count": 25,
     "metadata": {},
     "output_type": "execute_result"
    }
   ],
   "source": [
    "C = HM(3, 2, 4, symbol=:c)"
   ]
  },
  {
   "cell_type": "code",
   "execution_count": 26,
   "id": "88752cfc-9978-4dcf-b193-2faa480d2885",
   "metadata": {},
   "outputs": [
    {
     "name": "stdout",
     "output_type": "stream",
     "text": [
      "general method called! c[1:3,1:2,1:4]\n"
     ]
    },
    {
     "data": {
      "text/plain": [
       "3×2×4 Array{Num, 3}:\n",
       "[:, :, 1] =\n",
       " c[1, 1, 1]  c[1, 2, 1]\n",
       " c[2, 1, 1]  c[2, 2, 1]\n",
       " c[3, 1, 1]  c[3, 2, 1]\n",
       "\n",
       "[:, :, 2] =\n",
       " c[1, 1, 2]  c[1, 2, 2]\n",
       " c[2, 1, 2]  c[2, 2, 2]\n",
       " c[3, 1, 2]  c[3, 2, 2]\n",
       "\n",
       "[:, :, 3] =\n",
       " c[1, 1, 3]  c[1, 2, 3]\n",
       " c[2, 1, 3]  c[2, 2, 3]\n",
       " c[3, 1, 3]  c[3, 2, 3]\n",
       "\n",
       "[:, :, 4] =\n",
       " c[1, 1, 4]  c[1, 2, 4]\n",
       " c[2, 1, 4]  c[2, 2, 4]\n",
       " c[3, 1, 4]  c[3, 2, 4]"
      ]
     },
     "execution_count": 26,
     "metadata": {},
     "output_type": "execute_result"
    }
   ],
   "source": [
    "printHM(C)"
   ]
  },
  {
   "cell_type": "code",
   "execution_count": 44,
   "id": "07286de1-8ca4-407d-8b8d-4e463129289d",
   "metadata": {},
   "outputs": [
    {
     "data": {
      "text/latex": [
       "\\begin{equation}\n",
       "d\n",
       "\\end{equation}\n"
      ],
      "text/plain": [
       "d[2:4,1:2]"
      ]
     },
     "execution_count": 44,
     "metadata": {},
     "output_type": "execute_result"
    }
   ],
   "source": [
    "D = HM(2:4, 1:2, symbol=:d)"
   ]
  },
  {
   "cell_type": "code",
   "execution_count": 45,
   "id": "f8b57c4d-3e01-4b80-ad87-b4c3fc436047",
   "metadata": {},
   "outputs": [
    {
     "name": "stdout",
     "output_type": "stream",
     "text": [
      "2 method called! d[2:4,1:2]\n"
     ]
    },
    {
     "data": {
      "text/latex": [
       "\\begin{equation}\n",
       "\\left[\n",
       "\\begin{array}{cc}\n",
       "d{{_2}}ˏ{_1} & d{{_2}}ˏ{_2} \\\\\n",
       "d{{_3}}ˏ{_1} & d{{_3}}ˏ{_2} \\\\\n",
       "d{{_4}}ˏ{_1} & d{{_4}}ˏ{_2} \\\\\n",
       "\\end{array}\n",
       "\\right]\n",
       "\\end{equation}\n"
      ],
      "text/plain": [
       "3×2 Matrix{Num}:\n",
       " d[2, 1]  d[2, 2]\n",
       " d[3, 1]  d[3, 2]\n",
       " d[4, 1]  d[4, 2]"
      ]
     },
     "execution_count": 45,
     "metadata": {},
     "output_type": "execute_result"
    }
   ],
   "source": [
    "printHM(D)"
   ]
  },
  {
   "cell_type": "code",
   "execution_count": null,
   "id": "42a4976e-7229-4d85-be01-8d75dfef3f97",
   "metadata": {},
   "outputs": [],
   "source": []
  }
 ],
 "metadata": {
  "kernelspec": {
   "display_name": "Julia 1.7.1",
   "language": "julia",
   "name": "julia-1.7"
  },
  "language_info": {
   "file_extension": ".jl",
   "mimetype": "application/julia",
   "name": "julia",
   "version": "1.7.1"
  }
 },
 "nbformat": 4,
 "nbformat_minor": 5
}
