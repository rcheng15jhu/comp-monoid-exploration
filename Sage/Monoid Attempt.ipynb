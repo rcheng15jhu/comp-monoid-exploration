{
 "cells": [
  {
   "cell_type": "code",
   "execution_count": 24,
   "metadata": {},
   "outputs": [],
   "source": [
    "from sage.misc.misc_c import prod\n",
    "\n",
    "from lib.Hypermatrix_Algebra_tst import HM, var_list\n",
    "\n",
    "import numpy"
   ]
  },
  {
   "cell_type": "code",
   "execution_count": 25,
   "metadata": {},
   "outputs": [],
   "source": [
    "sz = 2; HV = HM(*(sz for i in range(sz)), 'v')"
   ]
  },
  {
   "cell_type": "code",
   "execution_count": 26,
   "metadata": {},
   "outputs": [
    {
     "name": "stdout",
     "output_type": "stream",
     "text": [
      "[:, :]=\n",
      "[v00 v01]\n",
      "[v10 v11]\n"
     ]
    }
   ],
   "source": [
    "HV.printHM() # only valid for sz < 4 # fixed!\n",
    "# print(V)"
   ]
  },
  {
   "cell_type": "code",
   "execution_count": 27,
   "metadata": {},
   "outputs": [
    {
     "data": {
      "text/plain": [
       "0"
      ]
     },
     "execution_count": 27,
     "metadata": {},
     "output_type": "execute_result"
    }
   ],
   "source": [
    "def lexSymbol(digits, sz, terms, f):\n",
    "    raw = int(str(f)[1:]) # will only work when sz <= 10 # also fixed!\n",
    "    return sum((raw // 10**(digits*(terms-i-1))) % 10**digits * sz**i for i in range(terms))\n",
    "\n",
    "\n",
    "lexSymbol(1, sz, sz, HV[0,0])"
   ]
  },
  {
   "cell_type": "code",
   "execution_count": 28,
   "metadata": {},
   "outputs": [
    {
     "name": "stdout",
     "output_type": "stream",
     "text": [
      "[:, :, 0]=\n",
      "[e000 e010 e020 e030]\n",
      "[e100 e110 e120 e130]\n",
      "[e200 e210 e220 e230]\n",
      "[e300 e310 e320 e330]\n",
      "\n",
      "[:, :, 1]=\n",
      "[e001 e011 e021 e031]\n",
      "[e101 e111 e121 e131]\n",
      "[e201 e211 e221 e231]\n",
      "[e301 e311 e321 e331]\n",
      "\n",
      "[:, :, 2]=\n",
      "[e002 e012 e022 e032]\n",
      "[e102 e112 e122 e132]\n",
      "[e202 e212 e222 e232]\n",
      "[e302 e312 e322 e332]\n",
      "\n",
      "[:, :, 3]=\n",
      "[e003 e013 e023 e033]\n",
      "[e103 e113 e123 e133]\n",
      "[e203 e213 e223 e233]\n",
      "[e303 e313 e323 e333]\n",
      "\n"
     ]
    }
   ],
   "source": [
    "HE = HM(*(sz**sz for i in range(3)), 'e')\n",
    "\n",
    "HE.printHM()"
   ]
  },
  {
   "cell_type": "code",
   "execution_count": 29,
   "metadata": {},
   "outputs": [
    {
     "data": {
      "text/plain": [
       "40"
      ]
     },
     "execution_count": 29,
     "metadata": {},
     "output_type": "execute_result"
    }
   ],
   "source": [
    "lexSymbol(2, sz**sz, sz, HE[0, 1, 0])"
   ]
  },
  {
   "cell_type": "code",
   "execution_count": 30,
   "metadata": {},
   "outputs": [
    {
     "name": "stdout",
     "output_type": "stream",
     "text": [
      "[:, :]=\n",
      "[a00 a01]\n",
      "[a10 a11]\n"
     ]
    }
   ],
   "source": [
    "E = HM(*(sz for i in range(2)), 'a')\n",
    "E.printHM()"
   ]
  },
  {
   "cell_type": "code",
   "execution_count": 31,
   "metadata": {},
   "outputs": [],
   "source": [
    "Lx = var_list('x', sz**sz); Ly = var_list('y', sz**sz); Lz = var_list('z', sz**sz)"
   ]
  },
  {
   "cell_type": "code",
   "execution_count": 32,
   "metadata": {},
   "outputs": [
    {
     "name": "stdout",
     "output_type": "stream",
     "text": [
      "v11\n",
      "v11\n",
      "13\n",
      "v10\n",
      "v11\n"
     ]
    }
   ],
   "source": [
    "\n",
    "\n",
    "def listFromSymbol(digits, terms, f):\n",
    "    raw = int(str(f)[1:])\n",
    "    return [(raw // 10**(digits*(terms-i-1))) % 10**digits for i in range(terms)]\n",
    "\n",
    "\n",
    "\n",
    "def composeSymbols(HV, digits, terms, f1, f2):\n",
    "    \n",
    "    f1list = listFromSymbol(digits, terms, f1)\n",
    "    f2list = listFromSymbol(digits, terms, f2)\n",
    "    \n",
    "    return HV[tuple(f1list[f2list[i]] for i in range(sz))]\n",
    "\n",
    "print(composeSymbols(HV, 1, sz, HV[1,1], HV[0,1])) # HV[1,1,0], HV[0,1,0]))\n",
    "print(composeSymbols(HV, 1, sz, HV[0,1], HV[1,1])) # HV[0,1,0], HV[1,1,0]))\n",
    "\n",
    "def lexList(sz, f):\n",
    "    return sum((d * sz**i for i, d in enumerate(f)))\n",
    "\n",
    "def composeLists(terms, f1, f2):\n",
    "    return [f1[f2[i]] for i in range(terms)]\n",
    "\n",
    "print(lexList(3, composeLists(3, [1, 1, 0], [0, 1, 0])))\n",
    "\n",
    "def listFromLex(sz, terms, lex):\n",
    "    return [(lex // (sz ** i)) % sz for i in range(terms)]\n",
    "\n",
    "def SymbolFromLex(HV, sz, terms, lex):\n",
    "    return HV[tuple((lex // (sz ** i)) % sz for i in range(terms))]\n",
    "\n",
    "def composeLex(sz, terms, f1, f2):\n",
    "    f1list = listFromLex(sz, terms, f1)\n",
    "    f2list = listFromLex(sz, terms, f2)\n",
    "    \n",
    "    return lexList(sz, (f1list[f2list[i]] for i in range(sz)))\n",
    "\n",
    "print(SymbolFromLex(HV, sz, sz, lexList(3, composeLists(3, [1, 1, 0], [0, 1, 0]))))\n",
    "\n",
    "def SymbolFromList(f):\n",
    "    return HV[tuple(f)]\n",
    "\n",
    "print(SymbolFromList([1, 1]))\n",
    "\n",
    "def get_ident_func(sz):\n",
    "    return [i for i in range(sz)], lexList(sz, (i for i in range(sz)))"
   ]
  },
  {
   "cell_type": "code",
   "execution_count": 33,
   "metadata": {},
   "outputs": [],
   "source": [
    "monoids = prod(1 + HE[x, y, composeLex(sz, sz, x, y)] * Lx[x] * Ly[y] * Lz[composeLex(sz, sz, x, y)] for x in range(sz**sz) for y in range(sz**sz))\n",
    "\n",
    "_, ident = get_ident_func(2)\n",
    "\n",
    "# print(monoids.expand().diff(Lx[ident]).diff(Ly[ident]).diff(Lz[ident]))\n",
    "\n",
    "# expand = monoids.expand()"
   ]
  },
  {
   "cell_type": "code",
   "execution_count": 34,
   "metadata": {},
   "outputs": [],
   "source": [
    "with_ident = monoids.diff(Lx[ident]).diff(Ly[ident]).diff(Lz[ident]) # expand.diff(Lx[ident]).diff(Ly[ident]).diff(Lz[ident])"
   ]
  },
  {
   "cell_type": "code",
   "execution_count": 35,
   "metadata": {},
   "outputs": [],
   "source": [
    "temp = 1\n",
    "for i in range(sz**sz):\n",
    "     temp2 = with_ident.diff(Lx[i]).diff(Ly[i])\n",
    "     temp += temp2.diff(Lz[ident]) + temp2.diff(Lz[i])"
   ]
  },
  {
   "cell_type": "code",
   "execution_count": 39,
   "metadata": {},
   "outputs": [],
   "source": [
    "eval_temp = temp({Lx[0]:0,Lx[1]:0,Lx[2]:0,Lx[3]:0,Ly[0]:0,Ly[1]:0,Ly[2]:0,Ly[3]:0,Lz[0]:0,Lz[1]:0,Lz[2]:0,Lz[3]:0})"
   ]
  },
  {
   "cell_type": "code",
   "execution_count": 40,
   "metadata": {},
   "outputs": [
    {
     "name": "stdout",
     "output_type": "stream",
     "text": [
      "e000*e222 + 2*e112*e222 + e222*e333 + 1\n"
     ]
    }
   ],
   "source": [
    "print(eval_temp)"
   ]
  },
  {
   "cell_type": "code",
   "execution_count": null,
   "metadata": {},
   "outputs": [],
   "source": []
  }
 ],
 "metadata": {
  "kernelspec": {
   "display_name": "Python 3",
   "language": "python",
   "name": "python3"
  },
  "language_info": {
   "codemirror_mode": {
    "name": "ipython",
    "version": 3
   },
   "file_extension": ".py",
   "mimetype": "text/x-python",
   "name": "python",
   "nbconvert_exporter": "python",
   "pygments_lexer": "ipython3",
   "version": "3.7.7"
  }
 },
 "nbformat": 4,
 "nbformat_minor": 4
}
