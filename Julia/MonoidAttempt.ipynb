{
 "cells": [
  {
   "cell_type": "code",
   "execution_count": 1,
   "id": "4cdc3e70-2023-4a9a-bc11-2cf3f3cb7301",
   "metadata": {},
   "outputs": [
    {
     "data": {
      "text/plain": [
       "printHM (generic function with 5 methods)"
      ]
     },
     "execution_count": 1,
     "metadata": {},
     "output_type": "execute_result"
    }
   ],
   "source": [
    "using Symbolics\n",
    "\n",
    "function HM(sz::Int...; symbol::Symbol)\n",
    "    (@variables $symbol[map(x -> 1:x, sz)...])[1]\n",
    "end\n",
    "\n",
    "function HM(sz::AbstractRange{Int}...; symbol::Symbol)\n",
    "    (@variables $symbol[sz...])[1]\n",
    "end\n",
    "\n",
    "eltypes(::Type{Symbolics.Arr{T,D}}) where {T,D} = (T, D)\n",
    "eltypes(x::Symbolics.Arr) = eltypes(typeof(x))\n",
    "\n",
    "Base.similar(A::AbstractArray, T::Type, dims::Tuple{AbstractRange{I}, Vararg{AbstractRange{I}}}) where {I<:Int} = similar(A, T, tuple(map(x -> length(x), dims)...))\n",
    "    \n",
    "Base.similar(f::Union{Function,DataType}, dims::Tuple{AbstractRange{I}, Vararg{AbstractRange{I}}}) where {I<:Int} = similar(f, tuple(map(x -> length(x), dims)...))\n",
    "\n",
    "function printHM(Hx::Symbolics.Arr{T,2}) where {T}\n",
    "    println(\"2 method called! \", Hx)\n",
    "    if any(firstindex.([Hx],[1:2...]') .!= 1)\n",
    "        r,c = size(Hx)\n",
    "        [Hx[i+r*j] for i in 1:r, j in 0:(c-1)]\n",
    "    else\n",
    "        [x for x in Hx]\n",
    "    end\n",
    "end\n",
    "\n",
    "function printHM(Hx::Symbolics.Arr{T,D}, dim1=0, dim2=1, dpths=nothing) where {T,D}\n",
    "    println(\"general method called! \", Hx)\n",
    "    if any(firstindex.([Hx],[1:D...]') .!= 1)\n",
    "        [Hx[i] for i in CartesianIndex(repeat([1],D)...):CartesianIndex(size(Hx)...)]\n",
    "    else\n",
    "        [x for x in Hx]\n",
    "    end\n",
    "end"
   ]
  },
  {
   "cell_type": "code",
   "execution_count": 2,
   "id": "13c7f223-e13e-417e-b969-abc47ac0683f",
   "metadata": {},
   "outputs": [
    {
     "name": "stdout",
     "output_type": "stream",
     "text": [
      "general method called! v[1:3,1:3,1:3]\n"
     ]
    },
    {
     "data": {
      "text/plain": [
       "3×3×3 Array{Num, 3}:\n",
       "[:, :, 1] =\n",
       " v[1, 1, 1]  v[1, 2, 1]  v[1, 3, 1]\n",
       " v[2, 1, 1]  v[2, 2, 1]  v[2, 3, 1]\n",
       " v[3, 1, 1]  v[3, 2, 1]  v[3, 3, 1]\n",
       "\n",
       "[:, :, 2] =\n",
       " v[1, 1, 2]  v[1, 2, 2]  v[1, 3, 2]\n",
       " v[2, 1, 2]  v[2, 2, 2]  v[2, 3, 2]\n",
       " v[3, 1, 2]  v[3, 2, 2]  v[3, 3, 2]\n",
       "\n",
       "[:, :, 3] =\n",
       " v[1, 1, 3]  v[1, 2, 3]  v[1, 3, 3]\n",
       " v[2, 1, 3]  v[2, 2, 3]  v[2, 3, 3]\n",
       " v[3, 1, 3]  v[3, 2, 3]  v[3, 3, 3]"
      ]
     },
     "execution_count": 2,
     "metadata": {},
     "output_type": "execute_result"
    }
   ],
   "source": [
    "sz = 3; HV = HM(repeat([sz],sz)..., symbol=:v)\n",
    "printHM(HV)"
   ]
  },
  {
   "cell_type": "code",
   "execution_count": 3,
   "id": "b590e7bd-9280-46f4-9ec9-17feaa1b18c0",
   "metadata": {},
   "outputs": [
    {
     "data": {
      "text/plain": [
       "3-element Vector{Any}:\n",
       " 1\n",
       " 1\n",
       " 2"
      ]
     },
     "execution_count": 3,
     "metadata": {},
     "output_type": "execute_result"
    }
   ],
   "source": [
    "arguments(Symbolics.value(HV[1,1,2]))[2:end]"
   ]
  },
  {
   "cell_type": "code",
   "execution_count": 4,
   "id": "fdc3a12d-db69-43c3-b2ce-be6a48c00374",
   "metadata": {
    "tags": []
   },
   "outputs": [
    {
     "name": "stdout",
     "output_type": "stream",
     "text": [
      "general method called! v[1:3,1:3,1:3]\n"
     ]
    },
    {
     "data": {
      "text/plain": [
       "3×3×3 Array{Int64, 3}:\n",
       "[:, :, 1] =\n",
       " 0  3  6\n",
       " 1  4  7\n",
       " 2  5  8\n",
       "\n",
       "[:, :, 2] =\n",
       "  9  12  15\n",
       " 10  13  16\n",
       " 11  14  17\n",
       "\n",
       "[:, :, 3] =\n",
       " 18  21  24\n",
       " 19  22  25\n",
       " 20  23  26"
      ]
     },
     "execution_count": 4,
     "metadata": {},
     "output_type": "execute_result"
    }
   ],
   "source": [
    "function lex(sz, f) # No equivalent to Iterable in Julia...so this will remain generic\n",
    "    # it, terms = [f] .|> [enumerate length]\n",
    "    sum(enumerate(f)) do (i, x)\n",
    "        (x-1) * sz^(i-1)\n",
    "    end\n",
    "end\n",
    "\n",
    "symbolicarray_fromsymbol(f) = arguments(Symbolics.value(f))[1]\n",
    "\n",
    "list_fromsymbol(f)::Vector = arguments(Symbolics.value(f))[2:end]\n",
    "\n",
    "function lex(sz, f::Num)\n",
    "    lex(sz, list_fromsymbol(f))\n",
    "end\n",
    "\n",
    "lex.(sz, printHM(HV))"
   ]
  },
  {
   "cell_type": "code",
   "execution_count": 180,
   "id": "55403673-04a7-47bb-9528-481d57b8bd71",
   "metadata": {},
   "outputs": [
    {
     "data": {
      "text/plain": [
       "compose (generic function with 4 methods)"
      ]
     },
     "execution_count": 180,
     "metadata": {},
     "output_type": "execute_result"
    }
   ],
   "source": [
    "import Base.∘\n",
    "\n",
    "# (compose(fi::T...)::T) where {T} = reduce(∘, fi) # This is where the type system breaks...\n",
    "\n",
    "compose(f1::Vector, f2::Vector)::Vector = map(x->f1[x],f2)\n",
    "\n",
    "∘(f1::Vector, f2::Vector)::Vector = compose(f1, f2)\n",
    "\n",
    "vector_function(fi::Vector)::Function = x -> fi[x]\n",
    "\n",
    "function lazy_compose_1(fi::Vector...)::Vector\n",
    "    fcomposed = mapreduce(vector_function, ∘, fi)\n",
    "    [fcomposed(i) for i in 1:length(fi[1])]\n",
    "end\n",
    "\n",
    "eager_compose(fi::Num...)::Num = symbolicarray_fromsymbol(fi[1])[compose((fi .|> list_fromsymbol)...)...]\n",
    "\n",
    "function lazy_compose(fi::Num...)::Num\n",
    "    fcomposed = compose((fi .|> list_fromsymbol .|> (fi::Vector -> (x -> fi[x])))...)\n",
    "    symbolicarray_fromsymbol(fi[1])[(fcomposed(i) for i in 1:length(list_fromsymbol(fi[1])))...]\n",
    "end\n",
    "\n",
    "compose(fi::Num...)::Num = eager_compose(fi...)\n",
    "\n",
    "# Composition is associative\n",
    "# compose(f1::T, fi::T...) where {T} = compose(compose(f1,f2),fi...)\n",
    "\n",
    "# function compose(f1::Num, fi::Num...)\n",
    "#     HM = symbolicarray_fromsymbol(f1)\n",
    "#     HM[compose(([f1, fi...] .|> list_fromsymbol)...)...]\n",
    "# end\n",
    "\n",
    "# f1list, f2list = [f1, f2] .|> list_fromsymbol'"
   ]
  },
  {
   "cell_type": "code",
   "execution_count": 179,
   "id": "85f1761f-d7e1-4093-8871-8763df6cf710",
   "metadata": {},
   "outputs": [
    {
     "data": {
      "text/latex": [
       "\\begin{equation}\n",
       "\\left[\n",
       "\\begin{array}{c}\n",
       "v{{_3}}ˏ{{_2}}ˏ{_1} \\\\\n",
       "v{{_2}}ˏ{{_1}}ˏ{_3} \\\\\n",
       "\\end{array}\n",
       "\\right]\n",
       "\\end{equation}\n"
      ],
      "text/plain": [
       "2-element Vector{Num}:\n",
       " v[3, 2, 1]\n",
       " v[2, 1, 3]"
      ]
     },
     "execution_count": 179,
     "metadata": {},
     "output_type": "execute_result"
    }
   ],
   "source": [
    "compose.(HV[2,3,1],[HV[2,1,3], HV[1,3,2]])"
   ]
  },
  {
   "cell_type": "code",
   "execution_count": 175,
   "id": "6cc68fb8-edb9-418b-a975-33c4611ecd84",
   "metadata": {},
   "outputs": [
    {
     "data": {
      "text/latex": [
       "\\begin{equation}\n",
       "v{{_3}}ˏ{{_1}}ˏ{_2}\n",
       "\\end{equation}\n"
      ],
      "text/plain": [
       "v[3, 1, 2]"
      ]
     },
     "execution_count": 175,
     "metadata": {},
     "output_type": "execute_result"
    }
   ],
   "source": [
    "compose(HV[2,3,1], HV[2,1,3], HV[1,3,2])"
   ]
  },
  {
   "cell_type": "code",
   "execution_count": 151,
   "id": "bcb5fb0f-258d-44d2-b459-2a60c1ecca78",
   "metadata": {},
   "outputs": [
    {
     "data": {
      "text/latex": [
       "\\begin{equation}\n",
       "v{{_3}}ˏ{{_2}}ˏ{_1}\n",
       "\\end{equation}\n"
      ],
      "text/plain": [
       "v[3, 2, 1]"
      ]
     },
     "execution_count": 151,
     "metadata": {},
     "output_type": "execute_result"
    }
   ],
   "source": [
    "lazy_compose(HV[2,3,1],HV[2,1,3])"
   ]
  },
  {
   "cell_type": "code",
   "execution_count": 29,
   "id": "deb5d07f-0d6f-474a-85a0-7a0c8fa39af5",
   "metadata": {},
   "outputs": [],
   "source": [
    "function genrandfunc(sz)\n",
    "    history = []\n",
    "    function randFunc(ctx)\n",
    "        f = rand(1:sz, sz)\n",
    "        push!(history, (f,ctx))\n",
    "        f\n",
    "    end\n",
    "    randFunc, ()->history\n",
    "end\n",
    "randFunc, getHistory = genrandfunc(sz);"
   ]
  },
  {
   "cell_type": "code",
   "execution_count": 30,
   "id": "eaf4400c-983f-42b8-ae3c-c9d097f78873",
   "metadata": {},
   "outputs": [
    {
     "data": {
      "text/latex": [
       "\\begin{equation}\n",
       "v{{_2}}ˏ{{_3}}ˏ{_3}\n",
       "\\end{equation}\n"
      ],
      "text/plain": [
       "v[2, 3, 3]"
      ]
     },
     "execution_count": 30,
     "metadata": {},
     "output_type": "execute_result"
    }
   ],
   "source": [
    "compose(HV[randFunc(\"cmpSym\")...], HV[randFunc(\"cmpSym\")...])"
   ]
  },
  {
   "cell_type": "code",
   "execution_count": 31,
   "id": "02a380bf-ef54-493b-ace2-1ad3c317902b",
   "metadata": {},
   "outputs": [
    {
     "data": {
      "text/plain": [
       "2-element Vector{Any}:\n",
       " ([3, 3, 2], \"cmpSym\")\n",
       " ([3, 1, 2], \"cmpSym\")"
      ]
     },
     "execution_count": 31,
     "metadata": {},
     "output_type": "execute_result"
    }
   ],
   "source": [
    "getHistory()"
   ]
  },
  {
   "cell_type": "code",
   "execution_count": 32,
   "id": "84063256-1dba-4638-ae6f-a913c3f9dcf0",
   "metadata": {},
   "outputs": [
    {
     "data": {
      "text/latex": [
       "\\begin{equation}\n",
       "v{{_1}}ˏ{{_2}}ˏ{_3}\n",
       "\\end{equation}\n"
      ],
      "text/plain": [
       "v[1, 2, 3]"
      ]
     },
     "execution_count": 32,
     "metadata": {},
     "output_type": "execute_result"
    }
   ],
   "source": [
    "list_fromlex(sz, terms, lex) = [((lex ÷ (sz ^ i)) % sz) + 1 for i in 0:(terms-1)]\n",
    "\n",
    "symbol_fromlex(HM, sz, terms, lex) = HM[list_fromlex(sz, terms, lex)...]\n",
    "\n",
    "lex_identfunc(sz) = lex(sz, 1:sz)\n",
    "\n",
    "symbol_fromlex(HV, sz, sz, lex_identfunc(sz))"
   ]
  },
  {
   "cell_type": "code",
   "execution_count": 177,
   "id": "969d3930-b6f9-4021-a978-668794495f6c",
   "metadata": {},
   "outputs": [
    {
     "data": {
      "text/plain": [
       "CodeInfo(\n",
       "\u001b[90m1 ─\u001b[39m %1  = Main.Num\u001b[36m::Type{Num}\u001b[39m\n",
       "\u001b[90m│  \u001b[39m %2  = Base.getfield(fi, 1, false)\u001b[36m::Num\u001b[39m\n",
       "\u001b[90m│  \u001b[39m %3  = invoke list_fromsymbol(%2::Num)\u001b[36m::Vector\u001b[39m\n",
       "\u001b[90m│  \u001b[39m %4  = Main.:(var\"#275#278\")\u001b[36m::Type{var\"#275#278\"}\u001b[39m\n",
       "\u001b[90m│  \u001b[39m %5  = Core.typeof(%3)\u001b[36m::Type{Vector{T}} where T\u001b[39m\n",
       "\u001b[90m│  \u001b[39m %6  = Core.apply_type(%4, %5)\u001b[36m::Type{var\"#275#278\"{_A}} where _A\u001b[39m\n",
       "\u001b[90m│  \u001b[39m %7  = %new(%6, %3)\u001b[36m::var\"#275#278\"\u001b[39m\n",
       "\u001b[90m│  \u001b[39m %8  = Base.getfield(fi, 2, false)\u001b[36m::Num\u001b[39m\n",
       "\u001b[90m│  \u001b[39m %9  = invoke list_fromsymbol(%8::Num)\u001b[36m::Vector\u001b[39m\n",
       "\u001b[90m│  \u001b[39m %10 = Main.:(var\"#275#278\")\u001b[36m::Type{var\"#275#278\"}\u001b[39m\n",
       "\u001b[90m│  \u001b[39m %11 = Core.typeof(%9)\u001b[36m::Type{Vector{T}} where T\u001b[39m\n",
       "\u001b[90m│  \u001b[39m %12 = Core.apply_type(%10, %11)\u001b[36m::Type{var\"#275#278\"{_A}} where _A\u001b[39m\n",
       "\u001b[90m│  \u001b[39m %13 = %new(%12, %9)\u001b[36m::var\"#275#278\"\u001b[39m\n",
       "\u001b[90m│  \u001b[39m %14 = Base.getfield(fi, 3, false)\u001b[36m::Num\u001b[39m\n",
       "\u001b[90m│  \u001b[39m %15 = invoke list_fromsymbol(%14::Num)\u001b[36m::Vector\u001b[39m\n",
       "\u001b[90m│  \u001b[39m %16 = Main.:(var\"#275#278\")\u001b[36m::Type{var\"#275#278\"}\u001b[39m\n",
       "\u001b[90m│  \u001b[39m %17 = Core.typeof(%15)\u001b[36m::Type{Vector{T}} where T\u001b[39m\n",
       "\u001b[90m│  \u001b[39m %18 = Core.apply_type(%16, %17)\u001b[36m::Type{var\"#275#278\"{_A}} where _A\u001b[39m\n",
       "\u001b[90m│  \u001b[39m %19 = %new(%18, %15)\u001b[36m::var\"#275#278\"\u001b[39m\n",
       "\u001b[90m│  \u001b[39m %20 = Main.compose(%7, %13, %19)\u001b[36m::Any\u001b[39m\n",
       "\u001b[90m│  \u001b[39m %21 = Main.:(var\"#276#279\")\u001b[36m::Type{var\"#276#279\"}\u001b[39m\n",
       "\u001b[90m│  \u001b[39m %22 = Core.typeof(%20)\u001b[36m::DataType\u001b[39m\n",
       "\u001b[90m│  \u001b[39m %23 = Core.apply_type(%21, %22)\u001b[36m::Type{var\"#276#279\"{_A}} where _A\u001b[39m\n",
       "\u001b[90m│  \u001b[39m %24 = %new(%23, %20)\u001b[36m::var\"#276#279\"\u001b[39m\n",
       "\u001b[90m│  \u001b[39m %25 = Base.getfield(fi, 1, true)\u001b[36m::Num\u001b[39m\n",
       "\u001b[90m│  \u001b[39m %26 = invoke Main.list_fromsymbol(%25::Num)\u001b[36m::Vector\u001b[39m\n",
       "\u001b[90m│  \u001b[39m %27 = Base.arraylen(%26)\u001b[36m::Int64\u001b[39m\n",
       "\u001b[90m│  \u001b[39m %28 = Base.sle_int(1, %27)\u001b[36m::Bool\u001b[39m\n",
       "\u001b[90m│  \u001b[39m %29 = Base.ifelse(%28, %27, 0)\u001b[36m::Int64\u001b[39m\n",
       "\u001b[90m│  \u001b[39m %30 = %new(UnitRange{Int64}, 1, %29)\u001b[36m::UnitRange{Int64}\u001b[39m\n",
       "\u001b[90m│  \u001b[39m %31 = Base.Generator(%24, %30)\u001b[36m::Base.Generator{UnitRange{Int64}}\u001b[39m\n",
       "\u001b[90m│  \u001b[39m %32 = Base.getfield(fi, 1, true)\u001b[36m::Num\u001b[39m\n",
       "\u001b[90m│  \u001b[39m %33 = invoke Main.symbolicarray_fromsymbol(%32::Num)\u001b[36m::Any\u001b[39m\n",
       "\u001b[90m│  \u001b[39m %34 = Core.tuple(%33)\u001b[36m::Tuple{Any}\u001b[39m\n",
       "\u001b[90m│  \u001b[39m %35 = Core._apply_iterate(Base.iterate, Base.getindex, %34, %31)\u001b[36m::Any\u001b[39m\n",
       "\u001b[90m│  \u001b[39m %36 = Base.convert(%1, %35)\u001b[36m::Any\u001b[39m\n",
       "\u001b[90m│  \u001b[39m       Core.typeassert(%36, %1)\u001b[90m::Num\u001b[39m\n",
       "\u001b[90m│  \u001b[39m %38 = π (%36, \u001b[36mNum\u001b[39m)\n",
       "\u001b[90m└──\u001b[39m       return %38\n",
       ") => Num"
      ]
     },
     "execution_count": 177,
     "metadata": {},
     "output_type": "execute_result"
    }
   ],
   "source": [
    "test_f1 = [2,1,3]\n",
    "\n",
    "@code_typed lazy_compose(HV[2,3,1],HV[2,1,3],HV[1,2,3])"
   ]
  },
  {
   "cell_type": "code",
   "execution_count": null,
   "id": "18dab578-82e8-4b98-9ad6-dd00a4b1cc7e",
   "metadata": {},
   "outputs": [],
   "source": []
  }
 ],
 "metadata": {
  "kernelspec": {
   "display_name": "Julia 1.7.1",
   "language": "julia",
   "name": "julia-1.7"
  },
  "language_info": {
   "file_extension": ".jl",
   "mimetype": "application/julia",
   "name": "julia",
   "version": "1.7.1"
  }
 },
 "nbformat": 4,
 "nbformat_minor": 5
}
