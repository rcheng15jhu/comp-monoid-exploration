{
 "cells": [
  {
   "cell_type": "code",
   "execution_count": 1,
   "metadata": {},
   "outputs": [],
   "source": [
    "from sage.misc.misc_c import prod\n",
    "\n",
    "from Hypermatrix_Algebra_tst import var_list, ModuloII, x, rg\n",
    "\n",
    "from sage.calculus.var import var\n",
    "from sage.functions.other import floor"
   ]
  },
  {
   "cell_type": "code",
   "execution_count": 2,
   "metadata": {},
   "outputs": [
    {
     "name": "stdout",
     "output_type": "stream",
     "text": [
      "a6*x^6 + a5*x^5 + a4*x^4 + a3*x^3 + a2*x^2 + a1*x + a0\n",
      "a6*b^6 + a5*b^5 + a4*b^4 + a3*b^3 + a2*b^2 + a1*b + a0\n"
     ]
    }
   ],
   "source": [
    "sz = 7; La = var_list('a', sz); P = sum(La[i]*x**i for i in range(sz))\n",
    "\n",
    "print(P)\n",
    "\n",
    "print(ModuloII(P, [x], [x-var('b')]))"
   ]
  },
  {
   "cell_type": "code",
   "execution_count": 3,
   "metadata": {
    "scrolled": true
   },
   "outputs": [
    {
     "name": "stdout",
     "output_type": "stream",
     "text": [
      "-(c0 - x)*(c1 - x)*(c2 - x)\n",
      "a6*c0^4*c1*c2 + a6*c0^3*c1^2*c2 + a6*c0^2*c1^3*c2 + a6*c0*c1^4*c2 + a6*c0^3*c1*c2^2 + a6*c0^2*c1^2*c2^2 + a6*c0*c1^3*c2^2 + a6*c0^2*c1*c2^3 + a6*c0*c1^2*c2^3 + a6*c0*c1*c2^4 - a6*c0^4*c1*x - a6*c0^3*c1^2*x - a6*c0^2*c1^3*x - a6*c0*c1^4*x - a6*c0^4*c2*x - 2*a6*c0^3*c1*c2*x - 2*a6*c0^2*c1^2*c2*x - 2*a6*c0*c1^3*c2*x - a6*c1^4*c2*x - a6*c0^3*c2^2*x - 2*a6*c0^2*c1*c2^2*x - 2*a6*c0*c1^2*c2^2*x - a6*c1^3*c2^2*x - a6*c0^2*c2^3*x - 2*a6*c0*c1*c2^3*x - a6*c1^2*c2^3*x - a6*c0*c2^4*x - a6*c1*c2^4*x + a6*c0^4*x^2 + a6*c0^3*c1*x^2 + a6*c0^2*c1^2*x^2 + a6*c0*c1^3*x^2 + a6*c1^4*x^2 + a6*c0^3*c2*x^2 + a6*c0^2*c1*c2*x^2 + a6*c0*c1^2*c2*x^2 + a6*c1^3*c2*x^2 + a6*c0^2*c2^2*x^2 + a6*c0*c1*c2^2*x^2 + a6*c1^2*c2^2*x^2 + a6*c0*c2^3*x^2 + a6*c1*c2^3*x^2 + a6*c2^4*x^2 + a5*c0^3*c1*c2 + a5*c0^2*c1^2*c2 + a5*c0*c1^3*c2 + a5*c0^2*c1*c2^2 + a5*c0*c1^2*c2^2 + a5*c0*c1*c2^3 - a5*c0^3*c1*x - a5*c0^2*c1^2*x - a5*c0*c1^3*x - a5*c0^3*c2*x - 2*a5*c0^2*c1*c2*x - 2*a5*c0*c1^2*c2*x - a5*c1^3*c2*x - a5*c0^2*c2^2*x - 2*a5*c0*c1*c2^2*x - a5*c1^2*c2^2*x - a5*c0*c2^3*x - a5*c1*c2^3*x + a5*c0^3*x^2 + a5*c0^2*c1*x^2 + a5*c0*c1^2*x^2 + a5*c1^3*x^2 + a5*c0^2*c2*x^2 + a5*c0*c1*c2*x^2 + a5*c1^2*c2*x^2 + a5*c0*c2^2*x^2 + a5*c1*c2^2*x^2 + a5*c2^3*x^2 + a4*c0^2*c1*c2 + a4*c0*c1^2*c2 + a4*c0*c1*c2^2 - a4*c0^2*c1*x - a4*c0*c1^2*x - a4*c0^2*c2*x - 2*a4*c0*c1*c2*x - a4*c1^2*c2*x - a4*c0*c2^2*x - a4*c1*c2^2*x + a4*c0^2*x^2 + a4*c0*c1*x^2 + a4*c1^2*x^2 + a4*c0*c2*x^2 + a4*c1*c2*x^2 + a4*c2^2*x^2 + a3*c0*c1*c2 - a3*c0*c1*x - a3*c0*c2*x - a3*c1*c2*x + a3*c0*x^2 + a3*c1*x^2 + a3*c2*x^2 + a2*x^2 + a1*x + a0\n"
     ]
    }
   ],
   "source": [
    "Lc = var_list('c', floor(sz/2)); Q = prod(x-Lc[k] for k in rg(floor(sz/2)))\n",
    "\n",
    "print(Q)\n",
    "\n",
    "print(ModuloII(P, [x], [Q]))"
   ]
  },
  {
   "cell_type": "code",
   "execution_count": null,
   "metadata": {},
   "outputs": [],
   "source": []
  }
 ],
 "metadata": {
  "kernelspec": {
   "display_name": "Python 3",
   "language": "python",
   "name": "python3"
  },
  "language_info": {
   "codemirror_mode": {
    "name": "ipython",
    "version": 3
   },
   "file_extension": ".py",
   "mimetype": "text/x-python",
   "name": "python",
   "nbconvert_exporter": "python",
   "pygments_lexer": "ipython3",
   "version": "3.7.7"
  }
 },
 "nbformat": 4,
 "nbformat_minor": 5
}
