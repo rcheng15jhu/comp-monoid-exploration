{
 "cells": [
  {
   "cell_type": "code",
   "execution_count": 1,
   "id": "71682ff2-dbc7-4641-a8e4-93162e9d27c3",
   "metadata": {},
   "outputs": [],
   "source": [
    "# firsttime = true\n",
    "\n",
    "if !(@isdefined firsttime) || firsttime == true\n",
    "    include(\"HMAlg.jl\")\n",
    "    firsttime = false\n",
    "end\n",
    "using Main.HMAlg\n",
    "# using .HMAlg\n",
    "\n",
    "using Symbolics\n",
    "using Combinatorics"
   ]
  },
  {
   "cell_type": "code",
   "execution_count": 2,
   "id": "371f9acd-1cca-43a0-b3cc-15af42372113",
   "metadata": {},
   "outputs": [
    {
     "data": {
      "text/plain": [
       "HM(a[1:6,1:4,1:1])"
      ]
     },
     "execution_count": 2,
     "metadata": {},
     "output_type": "execute_result"
    }
   ],
   "source": [
    "test = HM(6, 4, 1, symbol=:a)"
   ]
  },
  {
   "cell_type": "code",
   "execution_count": 3,
   "id": "4c9f334e-5f33-43ae-aecd-2c03560421c0",
   "metadata": {},
   "outputs": [
    {
     "data": {
      "text/latex": [
       "\\begin{equation}\n",
       "a\n",
       "\\end{equation}\n"
      ],
      "text/plain": [
       "a[1:6,1:4,1:1]"
      ]
     },
     "execution_count": 3,
     "metadata": {},
     "output_type": "execute_result"
    }
   ],
   "source": [
    "test.Hx"
   ]
  },
  {
   "cell_type": "code",
   "execution_count": 4,
   "id": "f001ca8a-65b8-4c55-92fa-9c2ec334958f",
   "metadata": {},
   "outputs": [
    {
     "data": {
      "text/plain": [
       "3-element Vector{Any}:\n",
       " 1\n",
       " 1\n",
       " 1"
      ]
     },
     "execution_count": 4,
     "metadata": {},
     "output_type": "execute_result"
    }
   ],
   "source": [
    "list_fromsymbol(test.Hx[1,1,1])"
   ]
  },
  {
   "cell_type": "code",
   "execution_count": 5,
   "id": "bedf2a27-776b-4493-a5c8-940e1311e000",
   "metadata": {},
   "outputs": [
    {
     "name": "stdout",
     "output_type": "stream",
     "text": [
      "general method called! a[1:6,1:4,1:1]\n"
     ]
    },
    {
     "data": {
      "text/latex": [
       "\\begin{equation}\n",
       "\\left[\n",
       "\\begin{array}{cccc}\n",
       "a_{1}ˏ_{1}ˏ_1 & a_{1}ˏ_{2}ˏ_1 & a_{1}ˏ_{3}ˏ_1 & a_{1}ˏ_{4}ˏ_1 \\\\\n",
       "a_{2}ˏ_{1}ˏ_1 & a_{2}ˏ_{2}ˏ_1 & a_{2}ˏ_{3}ˏ_1 & a_{2}ˏ_{4}ˏ_1 \\\\\n",
       "a_{3}ˏ_{1}ˏ_1 & a_{3}ˏ_{2}ˏ_1 & a_{3}ˏ_{3}ˏ_1 & a_{3}ˏ_{4}ˏ_1 \\\\\n",
       "a_{4}ˏ_{1}ˏ_1 & a_{4}ˏ_{2}ˏ_1 & a_{4}ˏ_{3}ˏ_1 & a_{4}ˏ_{4}ˏ_1 \\\\\n",
       "a_{5}ˏ_{1}ˏ_1 & a_{5}ˏ_{2}ˏ_1 & a_{5}ˏ_{3}ˏ_1 & a_{5}ˏ_{4}ˏ_1 \\\\\n",
       "a_{6}ˏ_{1}ˏ_1 & a_{6}ˏ_{2}ˏ_1 & a_{6}ˏ_{3}ˏ_1 & a_{6}ˏ_{4}ˏ_1 \\\\\n",
       "\\end{array}\n",
       "\\right]\n",
       "\\end{equation}\n"
      ],
      "text/plain": [
       "6×4×1 Array{Num, 3}:\n",
       "[:, :, 1] =\n",
       " a[1, 1, 1]  a[1, 2, 1]  a[1, 3, 1]  a[1, 4, 1]\n",
       " a[2, 1, 1]  a[2, 2, 1]  a[2, 3, 1]  a[2, 4, 1]\n",
       " a[3, 1, 1]  a[3, 2, 1]  a[3, 3, 1]  a[3, 4, 1]\n",
       " a[4, 1, 1]  a[4, 2, 1]  a[4, 3, 1]  a[4, 4, 1]\n",
       " a[5, 1, 1]  a[5, 2, 1]  a[5, 3, 1]  a[5, 4, 1]\n",
       " a[6, 1, 1]  a[6, 2, 1]  a[6, 3, 1]  a[6, 4, 1]"
      ]
     },
     "execution_count": 5,
     "metadata": {},
     "output_type": "execute_result"
    }
   ],
   "source": [
    "test_static = genStaticHM(test.Hx)"
   ]
  },
  {
   "cell_type": "code",
   "execution_count": 6,
   "id": "de139089-8107-4862-a776-83c7513b14fa",
   "metadata": {},
   "outputs": [
    {
     "data": {
      "text/plain": [
       "1"
      ]
     },
     "execution_count": 6,
     "metadata": {},
     "output_type": "execute_result"
    }
   ],
   "source": [
    "view_fromsymbol(test_static[1,1])[3] = 1"
   ]
  },
  {
   "cell_type": "code",
   "execution_count": 7,
   "id": "00cf138d-98dd-42a9-b31e-8d88bb1696e8",
   "metadata": {},
   "outputs": [
    {
     "data": {
      "text/latex": [
       "\\begin{equation}\n",
       "\\left[\n",
       "\\begin{array}{cccc}\n",
       "a_{1}ˏ_{1}ˏ_1 & a_{1}ˏ_{2}ˏ_1 & a_{1}ˏ_{3}ˏ_1 & a_{1}ˏ_{4}ˏ_1 \\\\\n",
       "a_{2}ˏ_{1}ˏ_1 & a_{2}ˏ_{2}ˏ_1 & a_{2}ˏ_{3}ˏ_1 & a_{2}ˏ_{4}ˏ_1 \\\\\n",
       "a_{3}ˏ_{1}ˏ_1 & a_{3}ˏ_{2}ˏ_1 & a_{3}ˏ_{3}ˏ_1 & a_{3}ˏ_{4}ˏ_1 \\\\\n",
       "a_{4}ˏ_{1}ˏ_1 & a_{4}ˏ_{2}ˏ_1 & a_{4}ˏ_{3}ˏ_1 & a_{4}ˏ_{4}ˏ_1 \\\\\n",
       "a_{5}ˏ_{1}ˏ_1 & a_{5}ˏ_{2}ˏ_1 & a_{5}ˏ_{3}ˏ_1 & a_{5}ˏ_{4}ˏ_1 \\\\\n",
       "a_{6}ˏ_{1}ˏ_1 & a_{6}ˏ_{2}ˏ_1 & a_{6}ˏ_{3}ˏ_1 & a_{6}ˏ_{4}ˏ_1 \\\\\n",
       "\\end{array}\n",
       "\\right]\n",
       "\\end{equation}\n"
      ],
      "text/plain": [
       "6×4×1 Array{Num, 3}:\n",
       "[:, :, 1] =\n",
       " a[1, 1, 1]  a[1, 2, 1]  a[1, 3, 1]  a[1, 4, 1]\n",
       " a[2, 1, 1]  a[2, 2, 1]  a[2, 3, 1]  a[2, 4, 1]\n",
       " a[3, 1, 1]  a[3, 2, 1]  a[3, 3, 1]  a[3, 4, 1]\n",
       " a[4, 1, 1]  a[4, 2, 1]  a[4, 3, 1]  a[4, 4, 1]\n",
       " a[5, 1, 1]  a[5, 2, 1]  a[5, 3, 1]  a[5, 4, 1]\n",
       " a[6, 1, 1]  a[6, 2, 1]  a[6, 3, 1]  a[6, 4, 1]"
      ]
     },
     "execution_count": 7,
     "metadata": {},
     "output_type": "execute_result"
    }
   ],
   "source": [
    "test_static"
   ]
  },
  {
   "cell_type": "code",
   "execution_count": 8,
   "id": "23890ea8-6e5f-464a-a31a-d00671599c56",
   "metadata": {},
   "outputs": [
    {
     "data": {
      "text/latex": [
       "\\begin{equation}\n",
       "a_{1}ˏ_{1}ˏ_1 a_{1}ˏ_{2}ˏ_1\n",
       "\\end{equation}\n"
      ],
      "text/plain": [
       "a[1, 1, 1]*a[1, 2, 1]"
      ]
     },
     "execution_count": 8,
     "metadata": {},
     "output_type": "execute_result"
    }
   ],
   "source": [
    "simplify(test_static[1,1]*test_static[1,2])"
   ]
  },
  {
   "cell_type": "code",
   "execution_count": 9,
   "id": "8749fc1c-a348-4f5f-baca-d72d392e774e",
   "metadata": {},
   "outputs": [
    {
     "data": {
      "text/latex": [
       "\\begin{equation}\n",
       "2 a_{1}ˏ_{1}ˏ_1 a_{1}ˏ_{2}ˏ_1\n",
       "\\end{equation}\n"
      ],
      "text/plain": [
       "2a[1, 1, 1]*a[1, 2, 1]"
      ]
     },
     "execution_count": 9,
     "metadata": {},
     "output_type": "execute_result"
    }
   ],
   "source": [
    "simplify(test_static[1,1]*test_static[1,2] + test.Hx[1,1]*test.Hx[1,2])"
   ]
  },
  {
   "cell_type": "code",
   "execution_count": 10,
   "id": "0517afa8-482f-4040-9c16-8837868b4977",
   "metadata": {},
   "outputs": [
    {
     "data": {
      "text/latex": [
       "\\begin{equation}\n",
       "a_{1}ˏ_{1}ˏ_1 a_{1}ˏ_{2}ˏ_1 + a_{1}ˏ_{2}ˏ_1^{2}\n",
       "\\end{equation}\n"
      ],
      "text/plain": [
       "a[1, 1, 1]*a[1, 2, 1] + a[1, 2, 1]^2"
      ]
     },
     "execution_count": 10,
     "metadata": {},
     "output_type": "execute_result"
    }
   ],
   "source": [
    "simplify(test_static[1,1]*test_static[1,2] + test.Hx[1,2]*test.Hx[1,2])"
   ]
  },
  {
   "cell_type": "code",
   "execution_count": 11,
   "id": "cbee38c3-37b6-4640-9ab3-bea7d88bc8f5",
   "metadata": {},
   "outputs": [
    {
     "data": {
      "text/latex": [
       "\\begin{equation}\n",
       "a_{1}ˏ_{1}ˏ_1 a_{1}ˏ_{2}ˏ_1 + a_{1}ˏ_{2}ˏ_1 a_{1}ˏ_{3}ˏ_1\n",
       "\\end{equation}\n"
      ],
      "text/plain": [
       "a[1, 1, 1]*a[1, 2, 1] + a[1, 2, 1]*a[1, 3, 1]"
      ]
     },
     "execution_count": 11,
     "metadata": {},
     "output_type": "execute_result"
    }
   ],
   "source": [
    "simplify(test_static[1,1]*test_static[1,2] + test.Hx[1,3]*test.Hx[1,2])"
   ]
  },
  {
   "cell_type": "code",
   "execution_count": 14,
   "id": "f8894769-d098-4992-a277-67d9055e3723",
   "metadata": {},
   "outputs": [
    {
     "data": {
      "text/plain": [
       "HM(b[1:4,1:4,1:4,1:4,1:4,1:4])"
      ]
     },
     "execution_count": 14,
     "metadata": {},
     "output_type": "execute_result"
    }
   ],
   "source": [
    "fam3 = HM(repeat([4],6)..., symbol=:b)"
   ]
  },
  {
   "cell_type": "code",
   "execution_count": 15,
   "id": "8764567e-4648-4257-b5a1-c8101ff2012d",
   "metadata": {},
   "outputs": [
    {
     "data": {
      "text/plain": [
       "Combinatorics.Permutations{UnitRange{Int64}}(1:5, 5)"
      ]
     },
     "execution_count": 15,
     "metadata": {},
     "output_type": "execute_result"
    }
   ],
   "source": [
    "permutations(1:5)"
   ]
  },
  {
   "cell_type": "code",
   "execution_count": 22,
   "id": "8a44a4f2-526e-4b75-9b07-a0040f1a3192",
   "metadata": {
    "collapsed": true,
    "jupyter": {
     "outputs_hidden": true
    },
    "tags": []
   },
   "outputs": [
    {
     "data": {
      "text/plain": [
       "17280-element Vector{Vector{Int64}}:\n",
       " [2, 3, 3, 4, 4, 4]\n",
       " [2, 3, 3, 4, 4, 4]\n",
       " [2, 3, 3, 4, 4, 4]\n",
       " [2, 3, 3, 4, 4, 4]\n",
       " [2, 3, 3, 4, 4, 4]\n",
       " [2, 3, 3, 4, 4, 4]\n",
       " [2, 3, 4, 3, 4, 4]\n",
       " [2, 3, 4, 3, 4, 4]\n",
       " [2, 3, 4, 4, 3, 4]\n",
       " [2, 3, 4, 4, 4, 3]\n",
       " [2, 3, 4, 4, 3, 4]\n",
       " [2, 3, 4, 4, 4, 3]\n",
       " [2, 3, 4, 3, 4, 4]\n",
       " ⋮\n",
       " [1, 1, 2, 3, 2, 1]\n",
       " [1, 1, 2, 3, 1, 2]\n",
       " [1, 1, 2, 2, 3, 1]\n",
       " [1, 1, 2, 2, 1, 3]\n",
       " [1, 1, 2, 1, 3, 2]\n",
       " [1, 1, 2, 1, 2, 3]\n",
       " [1, 1, 1, 3, 2, 2]\n",
       " [1, 1, 1, 3, 2, 2]\n",
       " [1, 1, 1, 2, 3, 2]\n",
       " [1, 1, 1, 2, 2, 3]\n",
       " [1, 1, 1, 2, 3, 2]\n",
       " [1, 1, 1, 2, 2, 3]"
      ]
     },
     "execution_count": 22,
     "metadata": {},
     "output_type": "execute_result"
    }
   ],
   "source": [
    "orbit = [HMAlg.compose(σ4, [2,3,3,4,4,4], σ6) for σ4 in permutations(1:4) for σ6 in permutations(1:6)]"
   ]
  },
  {
   "cell_type": "code",
   "execution_count": 23,
   "id": "b7994aae-50d6-4f83-b61a-286394c12f23",
   "metadata": {},
   "outputs": [
    {
     "data": {
      "text/plain": [
       "1440-element Vector{Vector{Int64}}:\n",
       " [2, 3, 3, 4, 4, 4]\n",
       " [2, 3, 4, 3, 4, 4]\n",
       " [2, 3, 4, 4, 3, 4]\n",
       " [2, 3, 4, 4, 4, 3]\n",
       " [2, 4, 3, 3, 4, 4]\n",
       " [2, 4, 3, 4, 3, 4]\n",
       " [2, 4, 3, 4, 4, 3]\n",
       " [2, 4, 4, 3, 3, 4]\n",
       " [2, 4, 4, 3, 4, 3]\n",
       " [2, 4, 4, 4, 3, 3]\n",
       " [3, 2, 3, 4, 4, 4]\n",
       " [3, 2, 4, 3, 4, 4]\n",
       " [3, 2, 4, 4, 3, 4]\n",
       " ⋮\n",
       " [1, 1, 3, 2, 2, 1]\n",
       " [1, 1, 3, 2, 1, 2]\n",
       " [1, 1, 3, 1, 2, 2]\n",
       " [1, 1, 2, 3, 2, 1]\n",
       " [1, 1, 2, 3, 1, 2]\n",
       " [1, 1, 2, 2, 3, 1]\n",
       " [1, 1, 2, 2, 1, 3]\n",
       " [1, 1, 2, 1, 3, 2]\n",
       " [1, 1, 2, 1, 2, 3]\n",
       " [1, 1, 1, 3, 2, 2]\n",
       " [1, 1, 1, 2, 3, 2]\n",
       " [1, 1, 1, 2, 2, 3]"
      ]
     },
     "execution_count": 23,
     "metadata": {},
     "output_type": "execute_result"
    }
   ],
   "source": [
    "unique_orbit = unique(orbit)"
   ]
  },
  {
   "cell_type": "code",
   "execution_count": 25,
   "id": "86e349fa-fa8e-40a8-a55e-1adda42cf730",
   "metadata": {},
   "outputs": [
    {
     "data": {
      "text/plain": [
       "1080-element Vector{Vector{Int64}}:\n",
       " [1, 2, 3, 3, 4, 4]\n",
       " [1, 2, 3, 4, 3, 4]\n",
       " [1, 2, 3, 4, 4, 3]\n",
       " [1, 2, 4, 3, 3, 4]\n",
       " [1, 2, 4, 3, 4, 3]\n",
       " [1, 2, 4, 4, 3, 3]\n",
       " [1, 3, 2, 3, 4, 4]\n",
       " [1, 3, 2, 4, 3, 4]\n",
       " [1, 3, 2, 4, 4, 3]\n",
       " [1, 3, 3, 2, 4, 4]\n",
       " [1, 3, 3, 4, 2, 4]\n",
       " [1, 3, 3, 4, 4, 2]\n",
       " [1, 3, 4, 2, 3, 4]\n",
       " ⋮\n",
       " [2, 2, 3, 4, 1, 1]\n",
       " [2, 2, 3, 1, 4, 1]\n",
       " [2, 2, 3, 1, 1, 4]\n",
       " [2, 2, 4, 3, 1, 1]\n",
       " [2, 2, 4, 1, 3, 1]\n",
       " [2, 2, 4, 1, 1, 3]\n",
       " [2, 2, 1, 3, 4, 1]\n",
       " [2, 2, 1, 3, 1, 4]\n",
       " [2, 2, 1, 4, 3, 1]\n",
       " [2, 2, 1, 4, 1, 3]\n",
       " [2, 2, 1, 1, 3, 4]\n",
       " [2, 2, 1, 1, 4, 3]"
      ]
     },
     "execution_count": 25,
     "metadata": {},
     "output_type": "execute_result"
    }
   ],
   "source": [
    "orbit2 = [HMAlg.compose(σ4, [1,2,3,3,4,4], σ6) for σ4 in permutations(1:4) for σ6 in permutations(1:6)]\n",
    "unique_orbit2 = unique(orbit2)"
   ]
  },
  {
   "cell_type": "code",
   "execution_count": null,
   "id": "b16462a3-7204-4035-9020-15605a202051",
   "metadata": {},
   "outputs": [],
   "source": []
  }
 ],
 "metadata": {
  "kernelspec": {
   "display_name": "Julia 1.7.1",
   "language": "julia",
   "name": "julia-1.7"
  },
  "language_info": {
   "file_extension": ".jl",
   "mimetype": "application/julia",
   "name": "julia",
   "version": "1.7.1"
  }
 },
 "nbformat": 4,
 "nbformat_minor": 5
}
