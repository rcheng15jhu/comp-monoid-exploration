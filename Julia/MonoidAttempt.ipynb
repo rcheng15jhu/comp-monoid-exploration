{
 "cells": [
  {
   "cell_type": "code",
   "execution_count": 1,
   "id": "4cdc3e70-2023-4a9a-bc11-2cf3f3cb7301",
   "metadata": {},
   "outputs": [
    {
     "data": {
      "text/plain": [
       "printHM (generic function with 5 methods)"
      ]
     },
     "execution_count": 1,
     "metadata": {},
     "output_type": "execute_result"
    }
   ],
   "source": [
    "using Symbolics\n",
    "\n",
    "function HM(sz::Int...; symbol::Symbol)\n",
    "    (@variables $symbol[map(x -> 1:x, sz)...])[1]\n",
    "end\n",
    "\n",
    "function HM(sz::AbstractRange{Int}...; symbol::Symbol)\n",
    "    (@variables $symbol[sz...])[1]\n",
    "end\n",
    "\n",
    "eltypes(::Type{Symbolics.Arr{T,D}}) where {T,D} = (T, D)\n",
    "eltypes(x::Symbolics.Arr) = eltypes(typeof(x))\n",
    "\n",
    "Base.similar(A::AbstractArray, T::Type, dims::Tuple{AbstractRange{I}, Vararg{AbstractRange{I}}}) where {I<:Int} = similar(A, T, tuple(map(x -> length(x), dims)...))\n",
    "    \n",
    "Base.similar(f::Union{Function,DataType}, dims::Tuple{AbstractRange{I}, Vararg{AbstractRange{I}}}) where {I<:Int} = similar(f, tuple(map(x -> length(x), dims)...))\n",
    "\n",
    "function printHM(Hx::Symbolics.Arr{T,2}) where {T}\n",
    "    println(\"2 method called! \", Hx)\n",
    "    if any(firstindex.([Hx],[1:2...]') .!= 1)\n",
    "        r,c = length.(axes(Hx))\n",
    "        [Hx[i+r*j] for i in 1:r, j in 0:(c-1)]\n",
    "    else\n",
    "        [x for x in Hx]\n",
    "    end\n",
    "end\n",
    "\n",
    "function printHM(Hx::Symbolics.Arr{T,D}, dim1=0, dim2=1, dpths=nothing) where {T,D}\n",
    "    println(\"general method called! \", Hx)\n",
    "    if any(firstindex.([Hx],[1:D...]') .!= 1)\n",
    "        [Hx[i] for i in CartesianIndex(repeat([1],D)...):CartesianIndex(length.(axes(Hx))...)]\n",
    "    else\n",
    "        [x for x in Hx]\n",
    "    end\n",
    "end"
   ]
  },
  {
   "cell_type": "code",
   "execution_count": 2,
   "id": "13c7f223-e13e-417e-b969-abc47ac0683f",
   "metadata": {},
   "outputs": [
    {
     "name": "stdout",
     "output_type": "stream",
     "text": [
      "general method called! v[1:3,1:3,1:3]\n"
     ]
    },
    {
     "data": {
      "text/plain": [
       "3×3×3 Array{Num, 3}:\n",
       "[:, :, 1] =\n",
       " v[1, 1, 1]  v[1, 2, 1]  v[1, 3, 1]\n",
       " v[2, 1, 1]  v[2, 2, 1]  v[2, 3, 1]\n",
       " v[3, 1, 1]  v[3, 2, 1]  v[3, 3, 1]\n",
       "\n",
       "[:, :, 2] =\n",
       " v[1, 1, 2]  v[1, 2, 2]  v[1, 3, 2]\n",
       " v[2, 1, 2]  v[2, 2, 2]  v[2, 3, 2]\n",
       " v[3, 1, 2]  v[3, 2, 2]  v[3, 3, 2]\n",
       "\n",
       "[:, :, 3] =\n",
       " v[1, 1, 3]  v[1, 2, 3]  v[1, 3, 3]\n",
       " v[2, 1, 3]  v[2, 2, 3]  v[2, 3, 3]\n",
       " v[3, 1, 3]  v[3, 2, 3]  v[3, 3, 3]"
      ]
     },
     "execution_count": 2,
     "metadata": {},
     "output_type": "execute_result"
    }
   ],
   "source": [
    "sz = 3; HV = HM(repeat([sz],sz)..., symbol=:v)\n",
    "printHM(HV)"
   ]
  },
  {
   "cell_type": "code",
   "execution_count": 7,
   "id": "b590e7bd-9280-46f4-9ec9-17feaa1b18c0",
   "metadata": {},
   "outputs": [
    {
     "data": {
      "text/plain": [
       "3-element Vector{Any}:\n",
       " 1\n",
       " 1\n",
       " 1"
      ]
     },
     "execution_count": 7,
     "metadata": {},
     "output_type": "execute_result"
    }
   ],
   "source": [
    "arguments(Symbolics.value(HV[1,1,1]))[2:end]"
   ]
  },
  {
   "cell_type": "code",
   "execution_count": null,
   "id": "fdc3a12d-db69-43c3-b2ce-be6a48c00374",
   "metadata": {
    "tags": []
   },
   "outputs": [],
   "source": [
    "function lexsymbol(digits, sz, sym)\n",
    "    terms = \n",
    "    sum(enumerate(arguments(Symbolics.value(sym))[2:end])) do i, x\n",
    "        x * sz^\n",
    "    end\n",
    "end"
   ]
  }
 ],
 "metadata": {
  "kernelspec": {
   "display_name": "Julia 1.7.1",
   "language": "julia",
   "name": "julia-1.7"
  },
  "language_info": {
   "file_extension": ".jl",
   "mimetype": "application/julia",
   "name": "julia",
   "version": "1.7.1"
  }
 },
 "nbformat": 4,
 "nbformat_minor": 5
}
