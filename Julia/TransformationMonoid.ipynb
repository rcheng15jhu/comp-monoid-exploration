{
 "cells": [
  {
   "cell_type": "code",
   "execution_count": 1,
   "id": "5138b55f-f1ec-4616-a0a9-ab931e4bed17",
   "metadata": {},
   "outputs": [
    {
     "data": {
      "text/plain": [
       "HM (generic function with 1 method)"
      ]
     },
     "execution_count": 1,
     "metadata": {},
     "output_type": "execute_result"
    }
   ],
   "source": [
    "using Symbolics\n",
    "\n",
    "function HM(sz...; symbol::Symbol)\n",
    "    (@variables $symbol[(1:x for x in sz)...])[1]\n",
    "end"
   ]
  },
  {
   "cell_type": "code",
   "execution_count": 4,
   "id": "f83df39c-8cbd-4e94-af13-0cc0817769bb",
   "metadata": {},
   "outputs": [
    {
     "data": {
      "text/latex": [
       "\\begin{equation}\n",
       "a\n",
       "\\end{equation}\n"
      ],
      "text/plain": [
       "a"
      ]
     },
     "execution_count": 4,
     "metadata": {},
     "output_type": "execute_result"
    }
   ],
   "source": [
    "sz = 3; A = HM(sz, sz, symbol=:a)\n",
    "\n"
   ]
  },
  {
   "cell_type": "code",
   "execution_count": null,
   "id": "edfeac55-3cbb-4c0a-8b9d-17a5fc8529c6",
   "metadata": {},
   "outputs": [],
   "source": []
  }
 ],
 "metadata": {
  "kernelspec": {
   "display_name": "Julia 1.7.1",
   "language": "julia",
   "name": "julia-1.7"
  },
  "language_info": {
   "file_extension": ".jl",
   "mimetype": "application/julia",
   "name": "julia",
   "version": "1.7.1"
  }
 },
 "nbformat": 4,
 "nbformat_minor": 5
}
