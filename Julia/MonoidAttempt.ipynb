{
 "cells": [
  {
   "cell_type": "code",
   "execution_count": 1,
   "id": "4cdc3e70-2023-4a9a-bc11-2cf3f3cb7301",
   "metadata": {},
   "outputs": [
    {
     "data": {
      "text/plain": [
       "printHM (generic function with 5 methods)"
      ]
     },
     "execution_count": 1,
     "metadata": {},
     "output_type": "execute_result"
    }
   ],
   "source": [
    "using Symbolics\n",
    "\n",
    "function HM(sz::Int...; symbol::Symbol)\n",
    "    (@variables $symbol[map(x -> 1:x, sz)...])[1]\n",
    "end\n",
    "\n",
    "function HM(sz::AbstractRange{Int}...; symbol::Symbol)\n",
    "    (@variables $symbol[sz...])[1]\n",
    "end\n",
    "\n",
    "eltypes(::Type{Symbolics.Arr{T,D}}) where {T,D} = (T, D)\n",
    "eltypes(x::Symbolics.Arr) = eltypes(typeof(x))\n",
    "\n",
    "Base.similar(A::AbstractArray, T::Type, dims::Tuple{AbstractRange{I}, Vararg{AbstractRange{I}}}) where {I<:Int} = similar(A, T, tuple(map(x -> length(x), dims)...))\n",
    "    \n",
    "Base.similar(f::Union{Function,DataType}, dims::Tuple{AbstractRange{I}, Vararg{AbstractRange{I}}}) where {I<:Int} = similar(f, tuple(map(x -> length(x), dims)...))\n",
    "\n",
    "function printHM(Hx::Symbolics.Arr{T,2}) where {T}\n",
    "    println(\"2 method called! \", Hx)\n",
    "    if any(firstindex.([Hx],[1:2...]') .!= 1)\n",
    "        r,c = length.(axes(Hx))\n",
    "        [Hx[i+r*j] for i in 1:r, j in 0:(c-1)]\n",
    "    else\n",
    "        [x for x in Hx]\n",
    "    end\n",
    "end\n",
    "\n",
    "function printHM(Hx::Symbolics.Arr{T,D}, dim1=0, dim2=1, dpths=nothing) where {T,D}\n",
    "    println(\"general method called! \", Hx)\n",
    "    if any(firstindex.([Hx],[1:D...]') .!= 1)\n",
    "        [Hx[i] for i in CartesianIndex(repeat([1],D)...):CartesianIndex(length.(axes(Hx))...)]\n",
    "    else\n",
    "        [x for x in Hx]\n",
    "    end\n",
    "end"
   ]
  },
  {
   "cell_type": "code",
   "execution_count": 2,
   "id": "13c7f223-e13e-417e-b969-abc47ac0683f",
   "metadata": {},
   "outputs": [
    {
     "name": "stdout",
     "output_type": "stream",
     "text": [
      "general method called! v[1:3,1:3,1:3]\n"
     ]
    },
    {
     "data": {
      "text/plain": [
       "3×3×3 Array{Num, 3}:\n",
       "[:, :, 1] =\n",
       " v[1, 1, 1]  v[1, 2, 1]  v[1, 3, 1]\n",
       " v[2, 1, 1]  v[2, 2, 1]  v[2, 3, 1]\n",
       " v[3, 1, 1]  v[3, 2, 1]  v[3, 3, 1]\n",
       "\n",
       "[:, :, 2] =\n",
       " v[1, 1, 2]  v[1, 2, 2]  v[1, 3, 2]\n",
       " v[2, 1, 2]  v[2, 2, 2]  v[2, 3, 2]\n",
       " v[3, 1, 2]  v[3, 2, 2]  v[3, 3, 2]\n",
       "\n",
       "[:, :, 3] =\n",
       " v[1, 1, 3]  v[1, 2, 3]  v[1, 3, 3]\n",
       " v[2, 1, 3]  v[2, 2, 3]  v[2, 3, 3]\n",
       " v[3, 1, 3]  v[3, 2, 3]  v[3, 3, 3]"
      ]
     },
     "execution_count": 2,
     "metadata": {},
     "output_type": "execute_result"
    }
   ],
   "source": [
    "sz = 3; HV = HM(repeat([sz],sz)..., symbol=:v)\n",
    "printHM(HV)"
   ]
  },
  {
   "cell_type": "code",
   "execution_count": 3,
   "id": "b590e7bd-9280-46f4-9ec9-17feaa1b18c0",
   "metadata": {},
   "outputs": [
    {
     "data": {
      "text/plain": [
       "3-element Vector{Any}:\n",
       " 1\n",
       " 1\n",
       " 2"
      ]
     },
     "execution_count": 3,
     "metadata": {},
     "output_type": "execute_result"
    }
   ],
   "source": [
    "arguments(Symbolics.value(HV[1,1,2]))[2:end]"
   ]
  },
  {
   "cell_type": "code",
   "execution_count": 4,
   "id": "fdc3a12d-db69-43c3-b2ce-be6a48c00374",
   "metadata": {
    "tags": []
   },
   "outputs": [
    {
     "name": "stdout",
     "output_type": "stream",
     "text": [
      "general method called! v[1:3,1:3,1:3]\n"
     ]
    },
    {
     "data": {
      "text/plain": [
       "3×3×3 Array{Int64, 3}:\n",
       "[:, :, 1] =\n",
       " 0  3  6\n",
       " 1  4  7\n",
       " 2  5  8\n",
       "\n",
       "[:, :, 2] =\n",
       "  9  12  15\n",
       " 10  13  16\n",
       " 11  14  17\n",
       "\n",
       "[:, :, 3] =\n",
       " 18  21  24\n",
       " 19  22  25\n",
       " 20  23  26"
      ]
     },
     "execution_count": 4,
     "metadata": {},
     "output_type": "execute_result"
    }
   ],
   "source": [
    "function lexlist(sz, f)\n",
    "    # it, terms = [f] .|> [enumerate length]\n",
    "    sum(enumerate(f)) do (i, x)\n",
    "        (x-1) * sz^(i-1)\n",
    "    end\n",
    "end\n",
    "\n",
    "function lexsymbol(sz, f)\n",
    "    lexlist(sz, arguments(Symbolics.value(f))[2:end])\n",
    "end\n",
    "\n",
    "lexsymbol.(sz, printHM(HV))"
   ]
  },
  {
   "cell_type": "code",
   "execution_count": 14,
   "id": "55403673-04a7-47bb-9528-481d57b8bd71",
   "metadata": {},
   "outputs": [
    {
     "data": {
      "text/plain": [
       "compose_symbols (generic function with 1 method)"
      ]
     },
     "execution_count": 14,
     "metadata": {},
     "output_type": "execute_result"
    }
   ],
   "source": [
    "symbolicarray_fromsymbol(f) = arguments(Symbolics.value(f))[1]\n",
    "\n",
    "list_fromsymbol(f) = arguments(Symbolics.value(f))[2:end]\n",
    "\n",
    "compose_lists(f1, f2) = map(x->f1[x],f2)\n",
    "\n",
    "# Composition is associative\n",
    "compose_lists(f1, f2, fi...) = compose_lists(compose_lists(f1,f2),fi...)\n",
    "\n",
    "function compose_symbols(f1, fi...)\n",
    "    HM = symbolicarray_fromsymbol(f1)\n",
    "    HM[compose_lists(([f1, fi...] .|> list_fromsymbol)...)...]\n",
    "end\n",
    "\n",
    "# f1list, f2list = [f1, f2] .|> list_fromsymbol"
   ]
  },
  {
   "cell_type": "code",
   "execution_count": 15,
   "id": "85f1761f-d7e1-4093-8871-8763df6cf710",
   "metadata": {},
   "outputs": [
    {
     "data": {
      "text/plain": [
       "2-element Vector{SymbolicUtils.Term{Real, Nothing}}:\n",
       " v[3, 2, 1]\n",
       " v[2, 1, 3]"
      ]
     },
     "execution_count": 15,
     "metadata": {},
     "output_type": "execute_result"
    }
   ],
   "source": [
    "compose_symbols.(HV[2,3,1],[HV[2,1,3], HV[1,3,2]])"
   ]
  },
  {
   "cell_type": "code",
   "execution_count": 16,
   "id": "6cc68fb8-edb9-418b-a975-33c4611ecd84",
   "metadata": {},
   "outputs": [
    {
     "data": {
      "text/latex": [
       "\\begin{equation}\n",
       "v{{_3}}ˏ{{_1}}ˏ{_2}\n",
       "\\end{equation}\n"
      ],
      "text/plain": [
       "v[3, 1, 2]"
      ]
     },
     "execution_count": 16,
     "metadata": {},
     "output_type": "execute_result"
    }
   ],
   "source": [
    "compose_symbols(HV[2,3,1], HV[2,1,3], HV[1,3,2])"
   ]
  },
  {
   "cell_type": "code",
   "execution_count": 10,
   "id": "deb5d07f-0d6f-474a-85a0-7a0c8fa39af5",
   "metadata": {},
   "outputs": [
    {
     "data": {
      "text/plain": [
       "(randFunc, var\"#19#21\"{Vector{Any}}(Any[]))"
      ]
     },
     "execution_count": 10,
     "metadata": {},
     "output_type": "execute_result"
    }
   ],
   "source": [
    "function genrandfunc(sz)\n",
    "    history = []\n",
    "    function randFunc(ctx)\n",
    "        f = rand(1:sz, sz)\n",
    "        push!(history, (f,ctx))\n",
    "        f\n",
    "    end\n",
    "    randFunc, ()->history\n",
    "end\n",
    "randFunc, getHistory = genrandfunc(sz)"
   ]
  },
  {
   "cell_type": "code",
   "execution_count": 11,
   "id": "eaf4400c-983f-42b8-ae3c-c9d097f78873",
   "metadata": {},
   "outputs": [
    {
     "name": "stdout",
     "output_type": "stream",
     "text": [
      "[2, 2, 2]\n"
     ]
    },
    {
     "data": {
      "text/latex": [
       "\\begin{equation}\n",
       "v{{_2}}ˏ{{_2}}ˏ{_2}\n",
       "\\end{equation}\n"
      ],
      "text/plain": [
       "v[2, 2, 2]"
      ]
     },
     "execution_count": 11,
     "metadata": {},
     "output_type": "execute_result"
    }
   ],
   "source": [
    "compose_symbols(HV[randFunc(\"cmpSym\")...], HV[randFunc(\"cmpSym\")...])"
   ]
  },
  {
   "cell_type": "code",
   "execution_count": 12,
   "id": "02a380bf-ef54-493b-ace2-1ad3c317902b",
   "metadata": {},
   "outputs": [
    {
     "data": {
      "text/plain": [
       "2-element Vector{Any}:\n",
       " ([2, 2, 2], \"cmpSym\")\n",
       " ([3, 1, 1], \"cmpSym\")"
      ]
     },
     "execution_count": 12,
     "metadata": {},
     "output_type": "execute_result"
    }
   ],
   "source": [
    "getHistory()"
   ]
  },
  {
   "cell_type": "code",
   "execution_count": 13,
   "id": "84063256-1dba-4638-ae6f-a913c3f9dcf0",
   "metadata": {},
   "outputs": [
    {
     "data": {
      "text/latex": [
       "\\begin{equation}\n",
       "v{{_1}}ˏ{{_2}}ˏ{_3}\n",
       "\\end{equation}\n"
      ],
      "text/plain": [
       "v[1, 2, 3]"
      ]
     },
     "execution_count": 13,
     "metadata": {},
     "output_type": "execute_result"
    }
   ],
   "source": [
    "list_fromlex(sz, terms, lex) = [((lex ÷ (sz ^ i)) % sz) + 1 for i in 0:(terms-1)]\n",
    "\n",
    "symbol_fromlex(HM, sz, terms, lex) = HM[list_fromlex(sz, terms, lex)...]\n",
    "\n",
    "lex_identfunc(sz) = lexlist(sz, 1:sz)\n",
    "\n",
    "symbol_fromlex(HV, sz, sz, lex_identfunc(sz))"
   ]
  },
  {
   "cell_type": "code",
   "execution_count": null,
   "id": "18dab578-82e8-4b98-9ad6-dd00a4b1cc7e",
   "metadata": {},
   "outputs": [],
   "source": []
  }
 ],
 "metadata": {
  "kernelspec": {
   "display_name": "Julia 1.7.1",
   "language": "julia",
   "name": "julia-1.7"
  },
  "language_info": {
   "file_extension": ".jl",
   "mimetype": "application/julia",
   "name": "julia",
   "version": "1.7.1"
  }
 },
 "nbformat": 4,
 "nbformat_minor": 5
}
